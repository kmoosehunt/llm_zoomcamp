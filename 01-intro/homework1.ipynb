{
 "cells": [
  {
   "cell_type": "code",
   "execution_count": 3,
   "id": "787f6ebf-3bb3-47c0-a287-37e94e06a44f",
   "metadata": {},
   "outputs": [],
   "source": [
    "#import libraries\n",
    "from groq import Groq\n",
    "import os"
   ]
  },
  {
   "cell_type": "code",
   "execution_count": 5,
   "id": "32936bde-53e7-4c72-b36e-9925e08418f1",
   "metadata": {},
   "outputs": [
    {
     "name": "stdout",
     "output_type": "stream",
     "text": [
      "Found required environment variable GROQ_API_KEY\n"
     ]
    }
   ],
   "source": [
    "#check if the API key is in os.environ\n",
    "if (os.environ.get('GROQ_API_KEY')):\n",
    "    print('Found required environment variable GROQ_API_KEY')\n",
    "else:\n",
    "    print('Required environment variable GROQ_API_KEY missing')"
   ]
  },
  {
   "cell_type": "code",
   "execution_count": 6,
   "id": "fc5da1c1-b159-4342-b2c9-d64c3fc2c3db",
   "metadata": {},
   "outputs": [],
   "source": [
    "# create client calling Groq class\n",
    "client = Groq()\n",
    "\n",
    "# create a query\n",
    "response = client.chat.completions.create(\n",
    "    messages=[\n",
    "        {\n",
    "            \"role\": \"user\",\n",
    "            \"content\": \"Is it too late to join the course?\",\n",
    "        }\n",
    "    ],\n",
    "    model=\"llama3-8b-8192\",\n",
    ")"
   ]
  },
  {
   "cell_type": "code",
   "execution_count": 7,
   "id": "5c8306f6-110f-49a1-a00c-df8096f5dacc",
   "metadata": {},
   "outputs": [
    {
     "name": "stdout",
     "output_type": "stream",
     "text": [
      "I'm just an AI, I don't have access to specific information about a particular course. However, I can provide some general guidance.\n",
      "\n",
      "The answer to whether it's too late to join a course depends on several factors, such as:\n",
      "\n",
      "1. **Course requirements and deadlines**: Check if there are any specific deadlines or prerequisites to join the course.\n",
      "2. **Course format**: If it's an online course, you might still be able to join, even if it's already started. Online courses often allow late entries or have flexible start dates.\n",
      "3. **Payment and enrollment**: Check if payment has been made and enrollment has been processed.\n",
      "4. **Academic or institutional policies**: Policies may vary depending on the institution, university, or industry. Some might have strict deadlines, while others might be more accommodating.\n",
      "\n",
      "It's always a good idea to **confirm with the course organizers** (instructors, administrators, or program directors) to determine if it's still possible to join the course. They can provide more specific guidance on their policies and procedures.\n",
      "\n",
      "Remember to ask questions like:\n",
      "\n",
      "* Are there any remaining spots available?\n",
      "* Is there a late enrollment fee or deadline?\n",
      "* Are there specific requirements for late entrants?\n",
      "* Are there any exceptions or special arrangements possible?\n",
      "\n",
      "By asking these questions, you can get a better understanding of the course's flexibility and what's still possible.\n"
     ]
    }
   ],
   "source": [
    "print(response.choices[0].message.content)"
   ]
  },
  {
   "cell_type": "code",
   "execution_count": null,
   "id": "b4237e3f-f37f-4dc6-be81-692a8424cab1",
   "metadata": {},
   "outputs": [],
   "source": []
  }
 ],
 "metadata": {
  "kernelspec": {
   "display_name": "Python 3 (ipykernel)",
   "language": "python",
   "name": "python3"
  },
  "language_info": {
   "codemirror_mode": {
    "name": "ipython",
    "version": 3
   },
   "file_extension": ".py",
   "mimetype": "text/x-python",
   "name": "python",
   "nbconvert_exporter": "python",
   "pygments_lexer": "ipython3",
   "version": "3.10.13"
  }
 },
 "nbformat": 4,
 "nbformat_minor": 5
}
